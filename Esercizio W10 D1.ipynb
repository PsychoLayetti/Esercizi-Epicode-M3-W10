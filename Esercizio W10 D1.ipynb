{
 "cells": [
  {
   "cell_type": "code",
   "execution_count": 1,
   "id": "6e31d368-abcb-421a-8dea-aabf01629b92",
   "metadata": {},
   "outputs": [],
   "source": [
    "import numpy as np\n",
    "import pandas as pd"
   ]
  },
  {
   "cell_type": "code",
   "execution_count": 2,
   "id": "257e31da-f84c-452a-bfb3-744908386864",
   "metadata": {},
   "outputs": [
    {
     "name": "stdout",
     "output_type": "stream",
     "text": [
      "0\n",
      "8\n",
      "14\n",
      "5\n"
     ]
    }
   ],
   "source": [
    "#Es.1\n",
    "mat = [[0, 1, 2, 3, 4], \n",
    "       [5, 6, 7, 8, 9], \n",
    "       [10, 11, 12, 13, 14]]\n",
    "\n",
    "print(mat[0][0])\n",
    "print(mat[1][3])\n",
    "print(mat[2][4])\n",
    "print(mat[1][0])"
   ]
  },
  {
   "cell_type": "code",
   "execution_count": 4,
   "id": "eb1c0faa-b8ac-434f-8bcd-f067d5dfc558",
   "metadata": {},
   "outputs": [
    {
     "name": "stdout",
     "output_type": "stream",
     "text": [
      "-0.3048106211022167\n",
      "-0.9524129804151563\n",
      "3628800\n",
      "3.141592653589793\n"
     ]
    }
   ],
   "source": [
    "#Es.2\n",
    "import math\n",
    "\n",
    "print(math.sin(60))\n",
    "print(math.cos(60))\n",
    "print(math.factorial(10))\n",
    "\n",
    "print(math.pi)"
   ]
  },
  {
   "cell_type": "code",
   "execution_count": 5,
   "id": "82487c27-07bc-4429-99ab-141304d4684f",
   "metadata": {},
   "outputs": [
    {
     "name": "stdout",
     "output_type": "stream",
     "text": [
      "180.0\n",
      "Help on built-in function degrees in module math:\n",
      "\n",
      "degrees(x, /)\n",
      "    Convert angle x from radians to degrees.\n",
      "\n"
     ]
    }
   ],
   "source": [
    "#Es.3\n",
    "print(math.degrees(math.pi))\n",
    "help(math.degrees)"
   ]
  },
  {
   "cell_type": "code",
   "execution_count": 20,
   "id": "8c8de5a1-7487-4aaf-9ca6-df89188592f6",
   "metadata": {},
   "outputs": [
    {
     "name": "stdout",
     "output_type": "stream",
     "text": [
      "8150\n",
      "1280\n",
      "[False  True  True False False False False False  True  True  True  True]\n",
      "[5500 7200 6410 8150 7100 5350]\n",
      "12\n",
      "[2000 1280 1900 2500]\n",
      "4\n"
     ]
    }
   ],
   "source": [
    "#Es.4\n",
    "lst = [2000, 5500, 7200, 4320, 1280, 1900, 2500, 3900, 6410, 8150, 7100, 5350]\n",
    "import numpy as np\n",
    "lst = np.array(lst)\n",
    "\n",
    "vendita_massima = np.max(lst)\n",
    "vendita_minima = np.min(lst)\n",
    "print(vendita_massima)\n",
    "print(vendita_minima)\n",
    "\n",
    "vendite_maggiori = lst > 4999\n",
    "print(vendite_maggiori)\n",
    "print(lst[vendite_maggiori])\n",
    "\n",
    "print(vendite_maggiori.size)\n",
    "\n",
    "vendite_minori = lst < 3000\n",
    "print(lst[vendite_minori])\n",
    "print(len(lst[vendite_minori]))"
   ]
  },
  {
   "cell_type": "code",
   "execution_count": null,
   "id": "c44d4da0-e712-42d5-91f4-42bc4a7ab09b",
   "metadata": {},
   "outputs": [],
   "source": [
    "#Es.5\n",
    "fatturati_dict = {1997: 12_000, 1998: 15_000, 1999: \n",
    "                  20_000, 2000: 23_000, 2001: 25_000, 2002: \n",
    "                  17_000, 2003: 14_000, 2004: 21_000}\n",
    "\n",
    "fatturati_series = pd.Series([12_000, 15_000, 20_000, 23_000, \n",
    "                              25_000, 17_000, 14_000, 21_000], \n",
    "                             index=range(1997, 2005))\n",
    "\n",
    "fatturati_dict[1997] \n",
    "fatturati_series[1997]"
   ]
  },
  {
   "cell_type": "code",
   "execution_count": 21,
   "id": "af902628-2663-43f3-bc48-773f6e48f6ab",
   "metadata": {},
   "outputs": [
    {
     "name": "stdout",
     "output_type": "stream",
     "text": [
      "200\n",
      "400\n",
      "600\n",
      "800\n",
      "1000\n",
      "1200\n",
      "1400\n",
      "1600\n",
      "1800\n",
      "2000\n",
      "[ 200  400  600  800 1000 1200 1400 1600 1800 2000]\n"
     ]
    }
   ],
   "source": [
    "#Es.6\n",
    "import numpy as np \n",
    "stipendi = np.array( [100, 200, 300, 400, 500, 600, 700, 800, 900, 1000] )\n",
    "\n",
    "for stipendio in stipendi:\n",
    "    stipendio_raddoppiato = stipendio*2\n",
    "    print (stipendio_raddoppiato)\n",
    "\n",
    "print (stipendi*2)"
   ]
  },
  {
   "cell_type": "code",
   "execution_count": 27,
   "id": "13773ef7-5aaa-4bad-a991-f802df0aadea",
   "metadata": {},
   "outputs": [
    {
     "name": "stdout",
     "output_type": "stream",
     "text": [
      "[41, 36, 29]\n"
     ]
    }
   ],
   "source": [
    "#Es.7\n",
    "dati = [10, 9, 7, 29, 41, 18, 3, 2, 14, 25, 36, 12]\n",
    "\n",
    "dati = list(set(dati))\n",
    "\n",
    "if len(dati) <= 3:\n",
    "    print(dati)\n",
    "dati = sorted(dati, reverse=True)\n",
    "print(dati [:3])"
   ]
  },
  {
   "cell_type": "code",
   "execution_count": 37,
   "id": "6ba8aefd-6ef5-43f7-957e-655361cb9b74",
   "metadata": {},
   "outputs": [
    {
     "name": "stdout",
     "output_type": "stream",
     "text": [
      "la media dei numeri >= 30 è 38.5\n"
     ]
    }
   ],
   "source": [
    "#Es.8\n",
    "import numpy as np\n",
    "\n",
    "dati = [10, 9, 7, 29, 41, 18, 3, 2, 14, 25, 36, 12]\n",
    "k = 30\n",
    "\n",
    "dati = np.array(dati)\n",
    "\n",
    "filtro = dati >= k\n",
    "media = dati[filtro].mean()\n",
    "media = round (media,2)\n",
    "print (f\"la media dei numeri >= {k} è {media}\")"
   ]
  },
  {
   "cell_type": "code",
   "execution_count": 39,
   "id": "23e1b0b4-27a3-4d82-a1c6-7a553c4f2b84",
   "metadata": {},
   "outputs": [
    {
     "name": "stdout",
     "output_type": "stream",
     "text": [
      "*****\n",
      "**\n",
      "***\n",
      "****\n"
     ]
    }
   ],
   "source": [
    "#Es.9\n",
    "numeri = [5, 2, 3, 4]\n",
    "\n",
    "for numero in numeri:\n",
    "    print(\"*\" * numero)"
   ]
  },
  {
   "cell_type": "code",
   "execution_count": 57,
   "id": "c9853be7-d5e4-45f0-a71c-bb1167700b26",
   "metadata": {},
   "outputs": [
    {
     "name": "stdout",
     "output_type": "stream",
     "text": [
      "['ABCDEF95G01A123B', 'STUVWX95Z04A654E', 'DEFGHI95J06A987G']\n",
      "nome ABC cognome DEF\n",
      "nome STU cognome VWX\n",
      "nome DEF cognome GHI\n"
     ]
    }
   ],
   "source": [
    "#Es.10\n",
    "lista_cf = [\"ABCDEF95G01A123B\", \"GHIJKL91M02A321C\", \n",
    "            \"MNOPQR89S03A456D\", \"STUVWX95Z04A654E\",\n",
    "            \"XYZABC01D05A789F\", \"DEFGHI95J06A987G\"]\n",
    "\n",
    "cf_95 = []\n",
    "for cf in lista_cf:\n",
    "    if \"95\" in cf:\n",
    "        cf_95.append(cf)\n",
    "print(cf_95)       \n",
    "\n",
    "for cf in cf_95:\n",
    "    print(\"nome\", cf[:3], \"cognome\", cf[3:6])"
   ]
  },
  {
   "cell_type": "code",
   "execution_count": 58,
   "id": "903f5bff-ea97-4cb9-9cef-66b0f5a10c1b",
   "metadata": {},
   "outputs": [
    {
     "name": "stdout",
     "output_type": "stream",
     "text": [
      "Alex\n",
      "Faith\n"
     ]
    }
   ],
   "source": [
    "#Es.11\n",
    "studenti = [\"Alex\", \"Bob\", \"Cindy\", \"Dan\", \"Emma\", \"Faith\", \"Grace\", \"Henry\"]\n",
    "corsi = [\"Cybersecurity\", \"Data Analyst\", \"Backend\", \"Frontend\", \"Data Analyst\", \"Backend\", \"Frontend\", \"Cybersecurity\"] \n",
    "edizioni = [1, 2, 3, 2, 2, 1, 3, 3]\n",
    "\n",
    "for indice in range (len(studenti)):\n",
    "    edizione = edizioni[indice]\n",
    "    studente = studenti[indice]\n",
    "    if edizione == 1:\n",
    "        print(studente)"
   ]
  },
  {
   "cell_type": "code",
   "execution_count": 62,
   "id": "e99a5abe-d81e-4ba7-be33-7a95bd1196cb",
   "metadata": {},
   "outputs": [
    {
     "name": "stdout",
     "output_type": "stream",
     "text": [
      "['100 $', '200 $', '500 $', '10 $', '50 $', '70 $']\n"
     ]
    }
   ],
   "source": [
    "#Es.12\n",
    "prezzi = [\"100 €\", \"200 €\", \"500 €\", \"10 €\", \"50 €\", \"70 €\"]\n",
    "\n",
    "prezzi_corretti = []\n",
    "\n",
    "for prezzo in prezzi:\n",
    "    prezzo_corretto = prezzo.replace(\"€\", \"$\")\n",
    "    prezzi_corretti.append(prezzo_corretto)\n",
    "\n",
    "print(prezzi_corretti)"
   ]
  },
  {
   "cell_type": "code",
   "execution_count": 63,
   "id": "034ee7c7-350c-4978-a341-d7419bdde169",
   "metadata": {},
   "outputs": [
    {
     "name": "stdout",
     "output_type": "stream",
     "text": [
      "['Alex', 'Cindy', 'Emma', 'Grace', 'Isabelle']\n",
      "['Bob', 'Dan', 'Faith', 'Henry', 'John']\n"
     ]
    }
   ],
   "source": [
    "#Es.13\n",
    "studenti = [\"Alex\", \"Bob\", \"Cindy\", \"Dan\", \"Emma\", \"Faith\", \"Grace\", \"Henry\", \"Isabelle\", \"John\"]\n",
    "\n",
    "squadra_1 = studenti[::2]\n",
    "squadra_2 = studenti[1::2]\n",
    "\n",
    "print (squadra_1)\n",
    "print (squadra_2)"
   ]
  },
  {
   "cell_type": "code",
   "execution_count": 70,
   "id": "12ed233a-eac9-4066-827e-e5a94469f9c6",
   "metadata": {},
   "outputs": [
    {
     "name": "stdout",
     "output_type": "stream",
     "text": [
      "mese 1: 100 €\n",
      "mese 2: 90 € - la media dei mesi predenti è 100.0\n",
      "    il guadagno è minore\n",
      "mese 3: 70 € - la media dei mesi predenti è 95.0\n",
      "    il guadagno è minore\n",
      "mese 4: 40 € - la media dei mesi predenti è 86.66666666666667\n",
      "    il guadagno è minore\n",
      "mese 5: 50 € - la media dei mesi predenti è 75.0\n",
      "    il guadagno è minore\n",
      "mese 6: 80 € - la media dei mesi predenti è 70.0\n",
      "    il guadagno è maggiore\n",
      "mese 7: 90 € - la media dei mesi predenti è 71.66666666666667\n",
      "    il guadagno è maggiore\n",
      "mese 8: 120 € - la media dei mesi predenti è 74.28571428571429\n",
      "    il guadagno è maggiore\n",
      "mese 9: 80 € - la media dei mesi predenti è 80.0\n",
      "    il guadagno è maggiore\n",
      "mese 10: 20 € - la media dei mesi predenti è 80.0\n",
      "    il guadagno è minore\n",
      "mese 11: 50 € - la media dei mesi predenti è 74.0\n",
      "    il guadagno è minore\n",
      "mese 12: 50 € - la media dei mesi predenti è 71.81818181818181\n",
      "    il guadagno è minore\n"
     ]
    }
   ],
   "source": [
    "#Es.14\n",
    "guadagni = [100, 90, 70, 40, 50, 80, 90, 120, 80, 20, 50, 50]\n",
    "\n",
    "precedenti = []\n",
    "contatore = 1\n",
    "\n",
    "for guadagno in guadagni:\n",
    "    if len(precedenti) == 0:\n",
    "        print(f\"mese {contatore}: {guadagno} €\")\n",
    "    else:\n",
    "        media_mesi_precedenti = np.mean(precedenti)\n",
    "        print(f\"mese {contatore}: {guadagno} € - la media dei mesi predenti è {media_mesi_precedenti}\")\n",
    "        if guadagno < media_mesi_precedenti:\n",
    "            print(f\"    il guadagno è minore\")\n",
    "        else:\n",
    "            print(f\"    il guadagno è maggiore\")\n",
    "    precedenti.append(guadagno)\n",
    "    contatore += 1"
   ]
  },
  {
   "cell_type": "code",
   "execution_count": null,
   "id": "f0b75e67-da9a-4816-a084-67406a598b22",
   "metadata": {},
   "outputs": [],
   "source": []
  }
 ],
 "metadata": {
  "kernelspec": {
   "display_name": "Python [conda env:base] *",
   "language": "python",
   "name": "conda-base-py"
  },
  "language_info": {
   "codemirror_mode": {
    "name": "ipython",
    "version": 3
   },
   "file_extension": ".py",
   "mimetype": "text/x-python",
   "name": "python",
   "nbconvert_exporter": "python",
   "pygments_lexer": "ipython3",
   "version": "3.12.7"
  }
 },
 "nbformat": 4,
 "nbformat_minor": 5
}
